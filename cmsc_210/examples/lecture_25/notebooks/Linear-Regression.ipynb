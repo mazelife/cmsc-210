{
 "cells": [
  {
   "cell_type": "markdown",
   "metadata": {},
   "source": [
    "# Linear Regression\n",
    "\n",
    "We will use a real-life dataset containing information about size and weight for several fish species.\n",
    "\n",
    "1. species name of fish (Bream, Roach, Whitefish, Parkki, Perch, Pike, Smelt)\n",
    "2. weight of fish in grams\n",
    "3. vertical length in cm (`Length1`)\n",
    "4. diagonal length in cm (`Length2`)\n",
    "5. cross length in cm (`Length3`)\n",
    "6. height in cm\n",
    "7. diagonal width in cm\n",
    "\n",
    "We would like to see if we can develop a way to predict the weight of a fish given its dimensions.\n",
    "\n",
    "\n",
    "The relationship between total length (L, in inches) and total weight (W, in pounds) for nearly all species of fish can be expressed by an equation of the form\n",
    "\n",
    "\\begin{align}\n",
    "W = cL^b\n",
    "\\end{align}\n",
    "\n",
    "`W` is weight in pounds and `L` is length in inches. `b` is a constant that is close to 3.0 for all species and `c` is a constance that varies among species (For [northern pike](https://en.wikipedia.org/wiki/Northern_pike#Length_and_weight), for example, `b = 3.096` and `c = 0.000180`).\n",
    "\n",
    "## Task\n",
    "\n",
    "**Can we predict the weight of a fish given its dimensions and species?**\n",
    "\n",
    "## Acquiring the data\n",
    "First let's load the data into a [Pandas](https://mazelife.github.io/cmsc-291/lecture_10.html#pandas) dataframe:"
   ]
  },
  {
   "cell_type": "code",
   "execution_count": 1,
   "metadata": {},
   "outputs": [
    {
     "data": {
      "text/html": [
       "<div>\n",
       "<style scoped>\n",
       "    .dataframe tbody tr th:only-of-type {\n",
       "        vertical-align: middle;\n",
       "    }\n",
       "\n",
       "    .dataframe tbody tr th {\n",
       "        vertical-align: top;\n",
       "    }\n",
       "\n",
       "    .dataframe thead th {\n",
       "        text-align: right;\n",
       "    }\n",
       "</style>\n",
       "<table border=\"1\" class=\"dataframe\">\n",
       "  <thead>\n",
       "    <tr style=\"text-align: right;\">\n",
       "      <th></th>\n",
       "      <th>Species</th>\n",
       "      <th>Weight</th>\n",
       "      <th>Length1</th>\n",
       "      <th>Length2</th>\n",
       "      <th>Length3</th>\n",
       "      <th>Height</th>\n",
       "      <th>Width</th>\n",
       "    </tr>\n",
       "  </thead>\n",
       "  <tbody>\n",
       "    <tr>\n",
       "      <th>0</th>\n",
       "      <td>Bream</td>\n",
       "      <td>242.0</td>\n",
       "      <td>23.2</td>\n",
       "      <td>25.4</td>\n",
       "      <td>30.0</td>\n",
       "      <td>11.5200</td>\n",
       "      <td>4.0200</td>\n",
       "    </tr>\n",
       "    <tr>\n",
       "      <th>1</th>\n",
       "      <td>Bream</td>\n",
       "      <td>290.0</td>\n",
       "      <td>24.0</td>\n",
       "      <td>26.3</td>\n",
       "      <td>31.2</td>\n",
       "      <td>12.4800</td>\n",
       "      <td>4.3056</td>\n",
       "    </tr>\n",
       "    <tr>\n",
       "      <th>2</th>\n",
       "      <td>Bream</td>\n",
       "      <td>340.0</td>\n",
       "      <td>23.9</td>\n",
       "      <td>26.5</td>\n",
       "      <td>31.1</td>\n",
       "      <td>12.3778</td>\n",
       "      <td>4.6961</td>\n",
       "    </tr>\n",
       "    <tr>\n",
       "      <th>3</th>\n",
       "      <td>Bream</td>\n",
       "      <td>363.0</td>\n",
       "      <td>26.3</td>\n",
       "      <td>29.0</td>\n",
       "      <td>33.5</td>\n",
       "      <td>12.7300</td>\n",
       "      <td>4.4555</td>\n",
       "    </tr>\n",
       "    <tr>\n",
       "      <th>4</th>\n",
       "      <td>Bream</td>\n",
       "      <td>430.0</td>\n",
       "      <td>26.5</td>\n",
       "      <td>29.0</td>\n",
       "      <td>34.0</td>\n",
       "      <td>12.4440</td>\n",
       "      <td>5.1340</td>\n",
       "    </tr>\n",
       "    <tr>\n",
       "      <th>...</th>\n",
       "      <td>...</td>\n",
       "      <td>...</td>\n",
       "      <td>...</td>\n",
       "      <td>...</td>\n",
       "      <td>...</td>\n",
       "      <td>...</td>\n",
       "      <td>...</td>\n",
       "    </tr>\n",
       "    <tr>\n",
       "      <th>154</th>\n",
       "      <td>Smelt</td>\n",
       "      <td>12.2</td>\n",
       "      <td>11.5</td>\n",
       "      <td>12.2</td>\n",
       "      <td>13.4</td>\n",
       "      <td>2.0904</td>\n",
       "      <td>1.3936</td>\n",
       "    </tr>\n",
       "    <tr>\n",
       "      <th>155</th>\n",
       "      <td>Smelt</td>\n",
       "      <td>13.4</td>\n",
       "      <td>11.7</td>\n",
       "      <td>12.4</td>\n",
       "      <td>13.5</td>\n",
       "      <td>2.4300</td>\n",
       "      <td>1.2690</td>\n",
       "    </tr>\n",
       "    <tr>\n",
       "      <th>156</th>\n",
       "      <td>Smelt</td>\n",
       "      <td>12.2</td>\n",
       "      <td>12.1</td>\n",
       "      <td>13.0</td>\n",
       "      <td>13.8</td>\n",
       "      <td>2.2770</td>\n",
       "      <td>1.2558</td>\n",
       "    </tr>\n",
       "    <tr>\n",
       "      <th>157</th>\n",
       "      <td>Smelt</td>\n",
       "      <td>19.7</td>\n",
       "      <td>13.2</td>\n",
       "      <td>14.3</td>\n",
       "      <td>15.2</td>\n",
       "      <td>2.8728</td>\n",
       "      <td>2.0672</td>\n",
       "    </tr>\n",
       "    <tr>\n",
       "      <th>158</th>\n",
       "      <td>Smelt</td>\n",
       "      <td>19.9</td>\n",
       "      <td>13.8</td>\n",
       "      <td>15.0</td>\n",
       "      <td>16.2</td>\n",
       "      <td>2.9322</td>\n",
       "      <td>1.8792</td>\n",
       "    </tr>\n",
       "  </tbody>\n",
       "</table>\n",
       "<p>159 rows × 7 columns</p>\n",
       "</div>"
      ],
      "text/plain": [
       "    Species  Weight  Length1  Length2  Length3   Height   Width\n",
       "0     Bream   242.0     23.2     25.4     30.0  11.5200  4.0200\n",
       "1     Bream   290.0     24.0     26.3     31.2  12.4800  4.3056\n",
       "2     Bream   340.0     23.9     26.5     31.1  12.3778  4.6961\n",
       "3     Bream   363.0     26.3     29.0     33.5  12.7300  4.4555\n",
       "4     Bream   430.0     26.5     29.0     34.0  12.4440  5.1340\n",
       "..      ...     ...      ...      ...      ...      ...     ...\n",
       "154   Smelt    12.2     11.5     12.2     13.4   2.0904  1.3936\n",
       "155   Smelt    13.4     11.7     12.4     13.5   2.4300  1.2690\n",
       "156   Smelt    12.2     12.1     13.0     13.8   2.2770  1.2558\n",
       "157   Smelt    19.7     13.2     14.3     15.2   2.8728  2.0672\n",
       "158   Smelt    19.9     13.8     15.0     16.2   2.9322  1.8792\n",
       "\n",
       "[159 rows x 7 columns]"
      ]
     },
     "execution_count": 1,
     "metadata": {},
     "output_type": "execute_result"
    }
   ],
   "source": [
    "import pandas\n",
    "\n",
    "fish_dataframe = pandas.read_csv(\"Fish.csv\", dtype={\"Species\": \"category\"})\n",
    "fish_dataframe"
   ]
  },
  {
   "cell_type": "code",
   "execution_count": 2,
   "metadata": {},
   "outputs": [
    {
     "data": {
      "text/plain": [
       "<seaborn.axisgrid.FacetGrid at 0x7fdb387193d0>"
      ]
     },
     "execution_count": 2,
     "metadata": {},
     "output_type": "execute_result"
    }
   ],
   "source": [
    "import seaborn\n",
    "# Seaborn has various themes/styles. We'll pick a good default:\n",
    "seaborn.set_theme(style=\"darkgrid\")\n",
    "seaborn.set_context(\"talk\")\n",
    "\n",
    "seaborn.relplot(x=\"Length1\", y=\"Weight\", hue=\"Species\", data=fish_dataframe, height=8, aspect=1.5)"
   ]
  },
  {
   "cell_type": "markdown",
   "metadata": {},
   "source": [
    "## Simplifying the problem\n",
    "\n",
    "For the moment, let's attempt to do univariate linear regression. Let's take *one* measure of dimension (length) and attempt to predict weight for just one species: Pike. We'll start with a scatter plot with just the Pike data:"
   ]
  },
  {
   "cell_type": "code",
   "execution_count": 3,
   "metadata": {},
   "outputs": [
    {
     "data": {
      "text/plain": [
       "<seaborn.axisgrid.FacetGrid at 0x7fdb78e9d750>"
      ]
     },
     "execution_count": 3,
     "metadata": {},
     "output_type": "execute_result"
    },
    {
     "data": {
      "image/png": "[encoded data removed]",
      "text/plain": [
       "<Figure size 864x576 with 1 Axes>"
      ]
     },
     "metadata": {
      "needs_background": "light"
     },
     "output_type": "display_data"
    }
   ],
   "source": [
    "pike_dataframe = fish_dataframe[fish_dataframe.Species == \"Pike\"]\n",
    "seaborn.relplot(x=\"Length1\", y=\"Weight\", data=pike_dataframe, height=8, aspect=1.5)"
   ]
  },
  {
   "cell_type": "markdown",
   "metadata": {},
   "source": [
    "Now we will train a linear regression model using the [scikit-Learn](https://scikit-learn.org/) Python library. One of the first things we will need to do is extract our `X` and `Y` values as individual arrays from the source dataframe, as scikit-learn does not work directly with Pandas. For our case, we want to extract a single DataFrame column for our X values and a single column for our Y values as a pair of arrays. The way to do this is as follows:\n",
    "\n",
    "```\n",
    "data_array = dataframe[\"column name\"].values.reshape(-1, 1)\n",
    "```\n",
    "\n",
    "From there we will create an instance of the `LinearRegression` and then call `fit()` on it, which will train the model."
   ]
  },
  {
   "cell_type": "code",
   "execution_count": 4,
   "metadata": {},
   "outputs": [
    {
     "data": {
      "text/plain": [
       "array([[30. ],\n",
       "       [31.7],\n",
       "       [32.7],\n",
       "       [34.8],\n",
       "       [35.5],\n",
       "       [36. ],\n",
       "       [40. ],\n",
       "       [40. ],\n",
       "       [40.1],\n",
       "       [42. ],\n",
       "       [43.2],\n",
       "       [44.8],\n",
       "       [48.3],\n",
       "       [52. ],\n",
       "       [56. ],\n",
       "       [56. ],\n",
       "       [59. ]])"
      ]
     },
     "execution_count": 4,
     "metadata": {},
     "output_type": "execute_result"
    }
   ],
   "source": [
    "from sklearn.linear_model import LinearRegression\n",
    "\n",
    "x_values = pike_dataframe.Length1.values.reshape(-1, 1)\n",
    "y_values = pike_dataframe.Weight.values.reshape(-1, 1)\n",
    "pike_model = LinearRegression()\n",
    "pike_model.fit(x_values, y_values)\n",
    "\n",
    "x_values"
   ]
  },
  {
   "cell_type": "markdown",
   "metadata": {},
   "source": [
    "Once we have fit the model, we can ask it to do predictions. As we talked about last week, a linear regression model gives us an equation that describes a line:\n",
    "\n",
    "\\begin{align}\n",
    "y = mx + b \\\\\n",
    "m = slope \\\\\n",
    "b = intercept\n",
    "\\end{align}\n",
    "\n",
    "The model tells us what `m` and `b` are (these are called the *coefficients*), so that when we plug in a value for `x`, we will have our prediction for `y`. We can extract those coefficients from the scikit-learn model we just trained."
   ]
  },
  {
   "cell_type": "code",
   "execution_count": 5,
   "metadata": {},
   "outputs": [
    {
     "name": "stdout",
     "output_type": "stream",
     "text": [
      "Intercept is: -1540.824272231702\n",
      "Slope is: 53.19486584675106\n"
     ]
    }
   ],
   "source": [
    "intercept = pike_model.intercept_[0]\n",
    "slope = pike_model.coef_[0][0]\n",
    "print(f\"Intercept is: {intercept}\")\n",
    "print(f\"Slope is: {slope}\")"
   ]
  },
  {
   "cell_type": "markdown",
   "metadata": {},
   "source": [
    "We can also draw the line that our model has produced on top of the scatterplot to see how well it seems to fit:"
   ]
  },
  {
   "cell_type": "code",
   "execution_count": 6,
   "metadata": {},
   "outputs": [
    {
     "data": {
      "text/plain": [
       "[<matplotlib.lines.Line2D at 0x7fdb996dc610>]"
      ]
     },
     "execution_count": 6,
     "metadata": {},
     "output_type": "execute_result"
    },
    {
     "data": {
      "image/png": "[encoded data removed]",
      "text/plain": [
       "<Figure size 864x576 with 1 Axes>"
      ]
     },
     "metadata": {
      "needs_background": "light"
     },
     "output_type": "display_data"
    }
   ],
   "source": [
    "import matplotlib.pyplot as plt\n",
    "import numpy\n",
    "\n",
    "# Generate an array of 2 points at 27 and 60 on the x-axis:\n",
    "x_pred = numpy.array([27, 60])\n",
    "# Create the corresponding y values for the two X points:\n",
    "y_pred = slope * x_pred + intercept\n",
    "\n",
    "seaborn.relplot(x=\"Length1\", y=\"Weight\", data=pike_dataframe, height=8, aspect=1.5)\n",
    "plt.plot(x_pred, y_pred)"
   ]
  },
  {
   "cell_type": "markdown",
   "metadata": {},
   "source": [
    "## Evaluating the model\n",
    "\n",
    "Remember **mean-squared error**?\n",
    "\n",
    "<img src=\"https://mazelife.github.io/cmsc-291/images/lin-reg-residuals.png\" alt=\"Residuals\" style=\"width: 400px;\"/>    \n",
    "\n",
    "Let's calculate it! Scikit-learn will help us here, we just need to give it two arrays: one of predicted y values and one of actual y values."
   ]
  },
  {
   "cell_type": "code",
   "execution_count": 7,
   "metadata": {},
   "outputs": [
    {
     "name": "stdout",
     "output_type": "stream",
     "text": [
      "MSE is 12,692.68\n"
     ]
    },
    {
     "data": {
      "text/html": [
       "<div>\n",
       "<style scoped>\n",
       "    .dataframe tbody tr th:only-of-type {\n",
       "        vertical-align: middle;\n",
       "    }\n",
       "\n",
       "    .dataframe tbody tr th {\n",
       "        vertical-align: top;\n",
       "    }\n",
       "\n",
       "    .dataframe thead th {\n",
       "        text-align: right;\n",
       "    }\n",
       "</style>\n",
       "<table border=\"1\" class=\"dataframe\">\n",
       "  <thead>\n",
       "    <tr style=\"text-align: right;\">\n",
       "      <th></th>\n",
       "      <th>Actual</th>\n",
       "      <th>Predicted</th>\n",
       "    </tr>\n",
       "  </thead>\n",
       "  <tbody>\n",
       "    <tr>\n",
       "      <th>0</th>\n",
       "      <td>200.0</td>\n",
       "      <td>55.021703</td>\n",
       "    </tr>\n",
       "    <tr>\n",
       "      <th>1</th>\n",
       "      <td>300.0</td>\n",
       "      <td>145.452975</td>\n",
       "    </tr>\n",
       "    <tr>\n",
       "      <th>2</th>\n",
       "      <td>300.0</td>\n",
       "      <td>198.647841</td>\n",
       "    </tr>\n",
       "    <tr>\n",
       "      <th>3</th>\n",
       "      <td>300.0</td>\n",
       "      <td>310.357059</td>\n",
       "    </tr>\n",
       "    <tr>\n",
       "      <th>4</th>\n",
       "      <td>430.0</td>\n",
       "      <td>347.593465</td>\n",
       "    </tr>\n",
       "    <tr>\n",
       "      <th>5</th>\n",
       "      <td>345.0</td>\n",
       "      <td>374.190898</td>\n",
       "    </tr>\n",
       "    <tr>\n",
       "      <th>6</th>\n",
       "      <td>456.0</td>\n",
       "      <td>586.970362</td>\n",
       "    </tr>\n",
       "    <tr>\n",
       "      <th>7</th>\n",
       "      <td>510.0</td>\n",
       "      <td>586.970362</td>\n",
       "    </tr>\n",
       "    <tr>\n",
       "      <th>8</th>\n",
       "      <td>540.0</td>\n",
       "      <td>592.289848</td>\n",
       "    </tr>\n",
       "    <tr>\n",
       "      <th>9</th>\n",
       "      <td>500.0</td>\n",
       "      <td>693.360093</td>\n",
       "    </tr>\n",
       "    <tr>\n",
       "      <th>10</th>\n",
       "      <td>567.0</td>\n",
       "      <td>757.193932</td>\n",
       "    </tr>\n",
       "    <tr>\n",
       "      <th>11</th>\n",
       "      <td>770.0</td>\n",
       "      <td>842.305718</td>\n",
       "    </tr>\n",
       "    <tr>\n",
       "      <th>12</th>\n",
       "      <td>950.0</td>\n",
       "      <td>1028.487748</td>\n",
       "    </tr>\n",
       "    <tr>\n",
       "      <th>13</th>\n",
       "      <td>1250.0</td>\n",
       "      <td>1225.308752</td>\n",
       "    </tr>\n",
       "    <tr>\n",
       "      <th>14</th>\n",
       "      <td>1600.0</td>\n",
       "      <td>1438.088215</td>\n",
       "    </tr>\n",
       "    <tr>\n",
       "      <th>15</th>\n",
       "      <td>1550.0</td>\n",
       "      <td>1438.088215</td>\n",
       "    </tr>\n",
       "    <tr>\n",
       "      <th>16</th>\n",
       "      <td>1650.0</td>\n",
       "      <td>1597.672813</td>\n",
       "    </tr>\n",
       "  </tbody>\n",
       "</table>\n",
       "</div>"
      ],
      "text/plain": [
       "    Actual    Predicted\n",
       "0    200.0    55.021703\n",
       "1    300.0   145.452975\n",
       "2    300.0   198.647841\n",
       "3    300.0   310.357059\n",
       "4    430.0   347.593465\n",
       "5    345.0   374.190898\n",
       "6    456.0   586.970362\n",
       "7    510.0   586.970362\n",
       "8    540.0   592.289848\n",
       "9    500.0   693.360093\n",
       "10   567.0   757.193932\n",
       "11   770.0   842.305718\n",
       "12   950.0  1028.487748\n",
       "13  1250.0  1225.308752\n",
       "14  1600.0  1438.088215\n",
       "15  1550.0  1438.088215\n",
       "16  1650.0  1597.672813"
      ]
     },
     "execution_count": 7,
     "metadata": {},
     "output_type": "execute_result"
    }
   ],
   "source": [
    "from sklearn.metrics import mean_squared_error\n",
    "\n",
    "predicted_y = pike_model.predict(x_values)\n",
    "pike_mse = mean_squared_error(y_values, predicted_y)\n",
    "\n",
    "print(f\"MSE is {pike_mse:,.2f}\")\n",
    "pandas.DataFrame({'Actual': y_values.flatten(), 'Predicted': predicted_y.flatten()})\n"
   ]
  },
  {
   "cell_type": "markdown",
   "metadata": {},
   "source": [
    "## Overfitting\n",
    "\n",
    "The only problem here is we don't know if we've overfit. \n",
    "\n",
    "<img src=\"https://i.stack.imgur.com/wwhLV.png\"  alt=\"Overfitting\" style=\"width: 1200px;\"/>\n",
    "\n",
    "\n",
    "A better way to measure how well our model is to split our data into training and test datasets. Scikit-learn will help us with this too:"
   ]
  },
  {
   "cell_type": "code",
   "execution_count": 8,
   "metadata": {},
   "outputs": [
    {
     "name": "stdout",
     "output_type": "stream",
     "text": [
      "Mean-squared error: 22,682.16\n"
     ]
    },
    {
     "data": {
      "text/html": [
       "<div>\n",
       "<style scoped>\n",
       "    .dataframe tbody tr th:only-of-type {\n",
       "        vertical-align: middle;\n",
       "    }\n",
       "\n",
       "    .dataframe tbody tr th {\n",
       "        vertical-align: top;\n",
       "    }\n",
       "\n",
       "    .dataframe thead th {\n",
       "        text-align: right;\n",
       "    }\n",
       "</style>\n",
       "<table border=\"1\" class=\"dataframe\">\n",
       "  <thead>\n",
       "    <tr style=\"text-align: right;\">\n",
       "      <th></th>\n",
       "      <th>Actual</th>\n",
       "      <th>Predicted</th>\n",
       "    </tr>\n",
       "  </thead>\n",
       "  <tbody>\n",
       "    <tr>\n",
       "      <th>0</th>\n",
       "      <td>300.0</td>\n",
       "      <td>153.707099</td>\n",
       "    </tr>\n",
       "    <tr>\n",
       "      <th>1</th>\n",
       "      <td>456.0</td>\n",
       "      <td>601.323002</td>\n",
       "    </tr>\n",
       "    <tr>\n",
       "      <th>2</th>\n",
       "      <td>540.0</td>\n",
       "      <td>606.715965</td>\n",
       "    </tr>\n",
       "    <tr>\n",
       "      <th>3</th>\n",
       "      <td>500.0</td>\n",
       "      <td>709.182256</td>\n",
       "    </tr>\n",
       "  </tbody>\n",
       "</table>\n",
       "</div>"
      ],
      "text/plain": [
       "   Actual   Predicted\n",
       "0   300.0  153.707099\n",
       "1   456.0  601.323002\n",
       "2   540.0  606.715965\n",
       "3   500.0  709.182256"
      ]
     },
     "execution_count": 8,
     "metadata": {},
     "output_type": "execute_result"
    }
   ],
   "source": [
    "from sklearn.model_selection import train_test_split\n",
    "\n",
    "\n",
    "# Split 20% of our data off into testing data:\n",
    "x_training_data, x_test_data, y_training_data, y_test_data = train_test_split(x_values, y_values, test_size=0.2, random_state=0)\n",
    "\n",
    "# Train our model as usual with the 80% of the data we reserved for training:\n",
    "pike_model = LinearRegression()\n",
    "pike_model.fit(x_training_data, y_training_data)\n",
    "\n",
    "# Then have it predict X values\n",
    "predicted_y = pike_model.predict(x_test_data)\n",
    "print(\"Mean-squared error: {:,.2f}\".format(mean_squared_error(y_test_data, predicted_y)))\n",
    "pandas.DataFrame({'Actual': y_test_data.flatten(), 'Predicted': predicted_y.flatten()})"
   ]
  },
  {
   "cell_type": "markdown",
   "metadata": {},
   "source": [
    "## Polynomial Regression\n",
    "\n",
    "Our model works...OK. But the MSE on \"real-world\" data is somewhat high. You could say that out model under-fits the data. To overcome under-fitting, we need to increase the complexity of the model. What if we try to fit this line with a curve?\n"
   ]
  },
  {
   "cell_type": "code",
   "execution_count": 9,
   "metadata": {},
   "outputs": [
    {
     "data": {
      "text/plain": [
       "LinearRegression()"
      ]
     },
     "execution_count": 9,
     "metadata": {},
     "output_type": "execute_result"
    }
   ],
   "source": [
    "from sklearn.preprocessing import PolynomialFeatures \n",
    "\n",
    "poly_reg = PolynomialFeatures(degree=2)\n",
    "x_poly = poly_reg.fit_transform(x_values)\n",
    "#poly_reg.fit(x_poly,y_values)\n",
    "poly_pike_model = LinearRegression()\n",
    "poly_pike_model.fit(x_poly,y_values)\n"
   ]
  },
  {
   "cell_type": "code",
   "execution_count": 10,
   "metadata": {},
   "outputs": [
    {
     "name": "stdout",
     "output_type": "stream",
     "text": [
      "Mean-squared error: 22682.15590483156\n"
     ]
    },
    {
     "data": {
      "text/html": [
       "<div>\n",
       "<style scoped>\n",
       "    .dataframe tbody tr th:only-of-type {\n",
       "        vertical-align: middle;\n",
       "    }\n",
       "\n",
       "    .dataframe tbody tr th {\n",
       "        vertical-align: top;\n",
       "    }\n",
       "\n",
       "    .dataframe thead th {\n",
       "        text-align: right;\n",
       "    }\n",
       "</style>\n",
       "<table border=\"1\" class=\"dataframe\">\n",
       "  <thead>\n",
       "    <tr style=\"text-align: right;\">\n",
       "      <th></th>\n",
       "      <th>Actual</th>\n",
       "      <th>Predicted</th>\n",
       "    </tr>\n",
       "  </thead>\n",
       "  <tbody>\n",
       "    <tr>\n",
       "      <th>0</th>\n",
       "      <td>300.0</td>\n",
       "      <td>153.707099</td>\n",
       "    </tr>\n",
       "    <tr>\n",
       "      <th>1</th>\n",
       "      <td>456.0</td>\n",
       "      <td>601.323002</td>\n",
       "    </tr>\n",
       "    <tr>\n",
       "      <th>2</th>\n",
       "      <td>540.0</td>\n",
       "      <td>606.715965</td>\n",
       "    </tr>\n",
       "    <tr>\n",
       "      <th>3</th>\n",
       "      <td>500.0</td>\n",
       "      <td>709.182256</td>\n",
       "    </tr>\n",
       "  </tbody>\n",
       "</table>\n",
       "</div>"
      ],
      "text/plain": [
       "   Actual   Predicted\n",
       "0   300.0  153.707099\n",
       "1   456.0  601.323002\n",
       "2   540.0  606.715965\n",
       "3   500.0  709.182256"
      ]
     },
     "execution_count": 10,
     "metadata": {},
     "output_type": "execute_result"
    },
    {
     "data": {
      "image/png": "[encoded data removed]",
      "text/plain": [
       "<Figure size 864x576 with 1 Axes>"
      ]
     },
     "metadata": {
      "needs_background": "light"
     },
     "output_type": "display_data"
    }
   ],
   "source": [
    "# Generate an array of 2 points at 27 and 60 on the x-axis:\n",
    "x_pred = numpy.array([27, 60])\n",
    "# Create the corresponding y values for the two X points:\n",
    "y_pred = slope * x_pred + intercept\n",
    "\n",
    "seaborn.relplot(x=\"Length1\", y=\"Weight\", data=pike_dataframe, height=8, aspect=1.5)\n",
    "plt.plot(x_pred, y_pred, color=\"red\")\n",
    "\n",
    "\n",
    "print(\"Mean-squared error: {}\".format(mean_squared_error(y_test_data, predicted_y)))\n",
    "pandas.DataFrame({'Actual': y_test_data.flatten(), 'Predicted': predicted_y.flatten()})"
   ]
  },
  {
   "cell_type": "code",
   "execution_count": 11,
   "metadata": {},
   "outputs": [
    {
     "name": "stdout",
     "output_type": "stream",
     "text": [
      "Mean-squared error: 3536.7667906426846\n"
     ]
    },
    {
     "data": {
      "image/png": "[encoded data removed]",
      "text/plain": [
       "<Figure size 864x576 with 1 Axes>"
      ]
     },
     "metadata": {
      "needs_background": "light"
     },
     "output_type": "display_data"
    }
   ],
   "source": [
    "# Generate an array of points:\n",
    "x_grid = numpy.arange(min(x_values), max(x_values), 0.1)\n",
    "x_grid = x_grid.reshape((len(x_grid), 1))\n",
    "\n",
    "# Create the corresponding y values for the X points using a polynomial model:\n",
    "y_grid = poly_pike_model.predict(poly_reg.fit_transform(x_grid))\n",
    "\n",
    "seaborn.relplot(x=\"Length1\", y=\"Weight\", data=pike_dataframe, height=8, aspect=1.5)\n",
    "plt.plot(x_grid, y_grid, color=\"red\")\n",
    "\n",
    "\n",
    "predicted_y = poly_pike_model.predict(poly_reg.fit_transform(x_values))\n",
    "print(\"Mean-squared error: {}\".format(mean_squared_error(y_values, predicted_y)))"
   ]
  },
  {
   "cell_type": "code",
   "execution_count": 13,
   "metadata": {},
   "outputs": [
    {
     "data": {
      "text/plain": [
       "array([[30. ],\n",
       "       [31.7],\n",
       "       [32.7],\n",
       "       [34.8],\n",
       "       [35.5],\n",
       "       [36. ],\n",
       "       [40. ],\n",
       "       [40. ],\n",
       "       [40.1],\n",
       "       [42. ],\n",
       "       [43.2],\n",
       "       [44.8],\n",
       "       [48.3],\n",
       "       [52. ],\n",
       "       [56. ],\n",
       "       [56. ],\n",
       "       [59. ]])"
      ]
     },
     "execution_count": 13,
     "metadata": {},
     "output_type": "execute_result"
    }
   ],
   "source": [
    "x_values"
   ]
  },
  {
   "cell_type": "code",
   "execution_count": 14,
   "metadata": {},
   "outputs": [
    {
     "data": {
      "text/plain": [
       "array([[1.00000e+00, 3.00000e+01, 9.00000e+02],\n",
       "       [1.00000e+00, 3.17000e+01, 1.00489e+03],\n",
       "       [1.00000e+00, 3.27000e+01, 1.06929e+03],\n",
       "       [1.00000e+00, 3.48000e+01, 1.21104e+03],\n",
       "       [1.00000e+00, 3.55000e+01, 1.26025e+03],\n",
       "       [1.00000e+00, 3.60000e+01, 1.29600e+03],\n",
       "       [1.00000e+00, 4.00000e+01, 1.60000e+03],\n",
       "       [1.00000e+00, 4.00000e+01, 1.60000e+03],\n",
       "       [1.00000e+00, 4.01000e+01, 1.60801e+03],\n",
       "       [1.00000e+00, 4.20000e+01, 1.76400e+03],\n",
       "       [1.00000e+00, 4.32000e+01, 1.86624e+03],\n",
       "       [1.00000e+00, 4.48000e+01, 2.00704e+03],\n",
       "       [1.00000e+00, 4.83000e+01, 2.33289e+03],\n",
       "       [1.00000e+00, 5.20000e+01, 2.70400e+03],\n",
       "       [1.00000e+00, 5.60000e+01, 3.13600e+03],\n",
       "       [1.00000e+00, 5.60000e+01, 3.13600e+03],\n",
       "       [1.00000e+00, 5.90000e+01, 3.48100e+03]])"
      ]
     },
     "execution_count": 14,
     "metadata": {},
     "output_type": "execute_result"
    }
   ],
   "source": [
    "x_poly"
   ]
  },
  {
   "cell_type": "code",
   "execution_count": 18,
   "metadata": {},
   "outputs": [
    {
     "data": {
      "text/plain": [
       "array([[1],\n",
       "       [2],\n",
       "       [3]])"
      ]
     },
     "execution_count": 18,
     "metadata": {},
     "output_type": "execute_result"
    }
   ],
   "source": [
    "simple_xs = numpy.array([[1], [2], [3]])\n",
    "simple_xs"
   ]
  },
  {
   "cell_type": "code",
   "execution_count": 19,
   "metadata": {},
   "outputs": [
    {
     "data": {
      "text/plain": [
       "array([[1., 1., 1.],\n",
       "       [1., 2., 4.],\n",
       "       [1., 3., 9.]])"
      ]
     },
     "execution_count": 19,
     "metadata": {},
     "output_type": "execute_result"
    }
   ],
   "source": [
    "PolynomialFeatures(degree=2).fit_transform(simple_xs)\n"
   ]
  },
  {
   "cell_type": "code",
   "execution_count": null,
   "metadata": {},
   "outputs": [],
   "source": []
  }
 ],
 "metadata": {
  "kernelspec": {
   "display_name": "Python 3",
   "language": "python",
   "name": "python3"
  },
  "language_info": {
   "codemirror_mode": {
    "name": "ipython",
    "version": 3
   },
   "file_extension": ".py",
   "mimetype": "text/x-python",
   "name": "python",
   "nbconvert_exporter": "python",
   "pygments_lexer": "ipython3",
   "version": "3.7.8"
  }
 },
 "nbformat": 4,
 "nbformat_minor": 4
}
