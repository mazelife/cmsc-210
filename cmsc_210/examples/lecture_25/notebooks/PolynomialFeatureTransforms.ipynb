{
 "cells": [
  {
   "cell_type": "markdown",
   "metadata": {},
   "source": [
    "# What's up with polynomial regression?\n",
    "\n",
    "Why do we have to use this `PolynomialFeatures` thing from scikit? What does it do?\n",
    "\n",
    "Let's imagine we have some data from which we know the true function we want our model to learn. This function is:\n",
    "\\begin{align}\n",
    "y = 3x + 1x^2 -2\n",
    "\\end{align}\n",
    "\n",
    "<img src=\"polynomial-graph.png\" alt=\"Iris Setosa\" style=\"width: 600px;\"/>"
   ]
  },
  {
   "cell_type": "code",
   "execution_count": 1,
   "metadata": {},
   "outputs": [],
   "source": [
    "import numpy\n",
    "from sklearn.linear_model import LinearRegression\n",
    "from sklearn.preprocessing import PolynomialFeatures \n",
    "\n",
    "\n",
    "x_values = numpy.array([[-2], [-1], [0], [1], [2]])\n",
    "y_values = numpy.array([[-4], [-4], [-2], [2], [8]])"
   ]
  },
  {
   "cell_type": "code",
   "execution_count": 2,
   "metadata": {},
   "outputs": [
    {
     "data": {
      "text/plain": [
       "array([[-2],\n",
       "       [-1],\n",
       "       [ 0],\n",
       "       [ 1],\n",
       "       [ 2]])"
      ]
     },
     "execution_count": 2,
     "metadata": {},
     "output_type": "execute_result"
    }
   ],
   "source": [
    "x_values"
   ]
  },
  {
   "cell_type": "markdown",
   "metadata": {},
   "source": [
    "Polynomial regression extends the linear model by adding extra predictors, obtained by raising each of the original predictors to a power. Our original predictors were:\n",
    "```\n",
    "[-2, -1, 0, 1, 2]\n",
    "```"
   ]
  },
  {
   "cell_type": "code",
   "execution_count": 3,
   "metadata": {},
   "outputs": [],
   "source": [
    "transformer = PolynomialFeatures(degree=2)\n",
    "x_values_transformed = transformer.fit_transform(x_values)"
   ]
  },
  {
   "cell_type": "code",
   "execution_count": 4,
   "metadata": {},
   "outputs": [
    {
     "data": {
      "text/plain": [
       "array([[ 1., -2.,  4.],\n",
       "       [ 1., -1.,  1.],\n",
       "       [ 1.,  0.,  0.],\n",
       "       [ 1.,  1.,  1.],\n",
       "       [ 1.,  2.,  4.]])"
      ]
     },
     "execution_count": 4,
     "metadata": {},
     "output_type": "execute_result"
    }
   ],
   "source": [
    "x_values_transformed"
   ]
  },
  {
   "cell_type": "markdown",
   "metadata": {},
   "source": [
    "What the transformer has done for each value of x is to expand it from a single number into an array for three numbers:\n",
    "\n",
    "1. The bias (always 1.0, the feature in which all polynomial powers are zero )\n",
    "2. The original value\n",
    "3. The value, squared\n",
    "\n",
    "It has *extended the linear model* by adding extra predictors. \n",
    "\n",
    "We can now hand off the transformed values off to the linear regression model's ``fit`` method and it will understand that it needs to fit a second-degree polynomial instead of a straight line.\n"
   ]
  },
  {
   "cell_type": "code",
   "execution_count": 5,
   "metadata": {},
   "outputs": [
    {
     "data": {
      "text/plain": [
       "LinearRegression()"
      ]
     },
     "execution_count": 5,
     "metadata": {},
     "output_type": "execute_result"
    }
   ],
   "source": [
    "model = LinearRegression()\n",
    "model.fit(x_values_transformed,y_values)"
   ]
  },
  {
   "cell_type": "markdown",
   "metadata": {},
   "source": [
    "Now we can predict. In the same way we transformed out `x` inputs with the `PolynomialFeatures` class before training the model, we will need to transform any `x` values for which we want to predict a `y`:"
   ]
  },
  {
   "cell_type": "code",
   "execution_count": 6,
   "metadata": {},
   "outputs": [
    {
     "data": {
      "text/plain": [
       "array([[16.],\n",
       "       [-2.]])"
      ]
     },
     "execution_count": 6,
     "metadata": {},
     "output_type": "execute_result"
    }
   ],
   "source": [
    "# Values of x for which we want to predict a y\n",
    "x_pred = [[3], [-3]]\n",
    "\n",
    "x_pred_transformed = transformer.fit_transform(x_pred)\n",
    "\n",
    "model.predict(x_pred_transformed)"
   ]
  },
  {
   "cell_type": "markdown",
   "metadata": {},
   "source": [
    "Are these correct?\n",
    "\n",
    "\\begin{align}\n",
    "y = (3 * 3) + 3^2 -2 \\\\\n",
    "y = (3 * -3) + -3^2 -2\n",
    "\\end{align}\n",
    "\n",
    "Yes, they are! Our model correctly learned the function! If you still aren't convinced from just two examples that the model has correctly learned the true function:\n"
   ]
  },
  {
   "cell_type": "code",
   "execution_count": 7,
   "metadata": {},
   "outputs": [
    {
     "name": "stdout",
     "output_type": "stream",
     "text": [
      "Intercept is: -2.000000000000004\n",
      "Slope is: [0. 3. 1.]\n"
     ]
    }
   ],
   "source": [
    "intercept = model.intercept_[0]\n",
    "slope = model.coef_[0]\n",
    "print(f\"Intercept is: {intercept}\")\n",
    "print(f\"Slope is: {slope}\")"
   ]
  },
  {
   "cell_type": "markdown",
   "metadata": {},
   "source": [
    "And our true function, again:\n",
    "\\begin{align}\n",
    "y = 3x + 1x^2 -2\n",
    "\\end{align}"
   ]
  },
  {
   "cell_type": "code",
   "execution_count": null,
   "metadata": {},
   "outputs": [],
   "source": []
  }
 ],
 "metadata": {
  "kernelspec": {
   "display_name": "Python 3 (ipykernel)",
   "language": "python",
   "name": "python3"
  },
  "language_info": {
   "codemirror_mode": {
    "name": "ipython",
    "version": 3
   },
   "file_extension": ".py",
   "mimetype": "text/x-python",
   "name": "python",
   "nbconvert_exporter": "python",
   "pygments_lexer": "ipython3",
   "version": "3.10.2"
  }
 },
 "nbformat": 4,
 "nbformat_minor": 4
}
